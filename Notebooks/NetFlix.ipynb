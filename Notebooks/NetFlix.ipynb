{
 "cells": [
  {
   "cell_type": "code",
   "execution_count": null,
   "id": "816dd7a8-2615-44a1-a476-8f6d0403da0c",
   "metadata": {},
   "outputs": [],
   "source": [
    "import kagglehub\n",
    "# Download the dataset using the Kaggle API via kagglehub\n",
    "dataset_name = \"anandshaw2001/netflix-movies-and-tv-shows\"\n",
    "path = kagglehub.dataset_download(dataset_name)\n",
    "\n",
    "# Now you can use the path to load the dataset (for example, into a pandas DataFrame)\n",
    "import pandas as pd\n",
    "\n",
    "# Assuming the dataset contains a CSV file (you can adjust filename as needed)\n",
    "csv_file_path = f\"{path}/netflix_titles.csv\"  # Adjust based on actual file name\n",
    "df = pd.read_csv(csv_file_path)\n",
    "\n",
    "# Display the first few rows of the dataset\n",
    "print(df.head())\n",
    "\n",
    "\n"
   ]
  },
  {
   "cell_type": "code",
   "execution_count": null,
   "id": "8cc13e00",
   "metadata": {},
   "outputs": [],
   "source": [
    "#Display no of rows and columns in  the dataset\n",
    "df.shape"
   ]
  },
  {
   "cell_type": "code",
   "execution_count": null,
   "id": "271a96ef",
   "metadata": {},
   "outputs": [],
   "source": [
    "# Display data info\n",
    "print(df.info())"
   ]
  },
  {
   "cell_type": "code",
   "execution_count": null,
   "id": "4341853a-d713-4b48-83b1-f71beaaeffaf",
   "metadata": {},
   "outputs": [],
   "source": []
  }
 ],
 "metadata": {
  "kernelspec": {
   "display_name": "Python 3",
   "language": "python",
   "name": "python3"
  },
  "language_info": {
   "codemirror_mode": {
    "name": "ipython",
    "version": 3
   },
   "file_extension": ".py",
   "mimetype": "text/x-python",
   "name": "python",
   "nbconvert_exporter": "python",
   "pygments_lexer": "ipython3",
   "version": "3.12.1"
  }
 },
 "nbformat": 4,
 "nbformat_minor": 5
}
